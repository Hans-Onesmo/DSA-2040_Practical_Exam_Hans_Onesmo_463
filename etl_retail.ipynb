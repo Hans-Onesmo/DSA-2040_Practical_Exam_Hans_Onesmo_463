{
 "cells": [
  {
   "cell_type": "code",
   "execution_count": 43,
   "id": "f8fe21f8",
   "metadata": {},
   "outputs": [],
   "source": [
    "# Loading necessary libraries\n",
    "import pandas as pd\n",
    "import sqlite3\n",
    "from datetime import datetime, timedelta"
   ]
  },
  {
   "cell_type": "code",
   "execution_count": 44,
   "id": "e3c7734f",
   "metadata": {},
   "outputs": [],
   "source": [
    "# Reading the data\n",
    "def run_etl(file_path, db_path=\"retail_dw.db\"):\n",
    "    \"\"\"\n",
    "    Full ETL process:\n",
    "    1. Extract data from Excel\n",
    "    2. Transform (clean, enrich, filter)\n",
    "    3. Load into SQLite database\n",
    "    Returns: Dictionary log with row counts at each stage\n",
    "    \"\"\""
   ]
  },
  {
   "cell_type": "code",
   "execution_count": 45,
   "id": "b5fea9bc",
   "metadata": {},
   "outputs": [],
   "source": [
    "# Extraction \n",
    "# Read only the columns we actually need for the warehouse\n",
    "file_path = \"Online Retail.xlsx\"\n",
    "use_cols = [\n",
    "    \"InvoiceNo\", \"StockCode\", \"Description\",\n",
    "    \"Quantity\", \"InvoiceDate\", \"UnitPrice\",\n",
    "    \"CustomerID\", \"Country\"\n",
    "]\n",
    "df = pd.read_excel(file_path, usecols=use_cols)"
   ]
  },
  {
   "cell_type": "code",
   "execution_count": 46,
   "id": "356e189a",
   "metadata": {},
   "outputs": [],
   "source": [
    "# Data Cleaning\n",
    "# Drop rows that have missing key values:\n",
    "# CustomerID, InvoiceDate, Quantity, UnitPrice must all be present\n",
    "df.dropna(subset=[\"CustomerID\", \"InvoiceDate\", \"Quantity\", \"UnitPrice\"], inplace=True)\n",
    "\n",
    "# Convert InvoiceDate from string/object to datetime format\n",
    "df[\"InvoiceDate\"] = pd.to_datetime(df[\"InvoiceDate\"], errors=\"coerce\")\n",
    "\n",
    "# Drop rows that failed the datetime conversion (errors='coerce' creates NaT for invalid dates)\n",
    "df.dropna(subset=[\"InvoiceDate\"], inplace=True)\n",
    "\n",
    "log = {}\n",
    "# Log the number of rows after extraction\n",
    "log[\"extracted_rows\"] = len(df)"
   ]
  },
  {
   "cell_type": "code",
   "execution_count": 47,
   "id": "a49ab13a",
   "metadata": {},
   "outputs": [
    {
     "data": {
      "text/plain": [
       "{'extracted_rows': 406829}"
      ]
     },
     "execution_count": 47,
     "metadata": {},
     "output_type": "execute_result"
    }
   ],
   "source": [
    "log # This will output the log as cell result"
   ]
  },
  {
   "cell_type": "code",
   "execution_count": 48,
   "id": "87e43487",
   "metadata": {},
   "outputs": [],
   "source": [
    "# Remove outliers:\n",
    "# - Quantity should be >= 0\n",
    "# - UnitPrice should be > 0\n",
    "df = df[(df[\"Quantity\"] >= 0) & (df[\"UnitPrice\"] > 0)]\n",
    "log[\"after_outlier_removal\"] = len(df)\n",
    "\n",
    "# Create a new column \"TotalSales\" = Quantity × UnitPrice\n",
    "df[\"TotalSales\"] = df[\"Quantity\"] * df[\"UnitPrice\"]\n",
    "\n",
    "# Create the Customer Dimension:\n",
    "# - TotalPurchases = sum of TotalSales for each customer\n",
    "# - Country = country of first transaction (assumes it doesn't change)\n",
    "customer_summary = df.groupby(\"CustomerID\").agg(\n",
    "    TotalPurchases=(\"TotalSales\", \"sum\"),\n",
    "    Country=(\"Country\", \"first\")\n",
    ").reset_index()\n",
    "\n",
    "# Use all available data\n",
    "df_last_year = df.copy() \n",
    "\n",
    "# Create the Time Dimension table:\n",
    "# - Each unique date in sales\n",
    "# - Include year, month, and day columns\n",
    "time_dim = pd.DataFrame({\n",
    "    \"InvoiceDate\": pd.to_datetime(df_last_year[\"InvoiceDate\"].dt.date.unique())\n",
    "})\n",
    "time_dim[\"Year\"] = time_dim[\"InvoiceDate\"].dt.year\n",
    "time_dim[\"Month\"] = time_dim[\"InvoiceDate\"].dt.month\n",
    "time_dim[\"Day\"] = time_dim[\"InvoiceDate\"].dt.day"
   ]
  },
  {
   "cell_type": "code",
   "execution_count": 49,
   "id": "b17d78ca",
   "metadata": {},
   "outputs": [
    {
     "data": {
      "text/plain": [
       "{'extracted_rows': 406829, 'after_outlier_removal': 397884}"
      ]
     },
     "execution_count": 49,
     "metadata": {},
     "output_type": "execute_result"
    }
   ],
   "source": [
    "log # This will output the log as cell result"
   ]
  },
  {
   "cell_type": "code",
   "execution_count": 50,
   "id": "d5e076cc",
   "metadata": {},
   "outputs": [],
   "source": [
    "# Define the database path\n",
    "db_path = \"retail_dw.db\"\n",
    "\n",
    "# Connect to SQLite (creates DB file if not exists)\n",
    "conn = sqlite3.connect(db_path)\n",
    "\n",
    "# Load the Fact table (SalesFact) - contains transactional data\n",
    "df_last_year.to_sql(\"SalesFact\", conn, if_exists=\"replace\", index=False)\n",
    "\n",
    "# Load the Customer Dimension table\n",
    "customer_summary.to_sql(\"CustomerDim\", conn, if_exists=\"replace\", index=False)\n",
    "\n",
    "# Load the Time Dimension table\n",
    "time_dim.to_sql(\"TimeDim\", conn, if_exists=\"replace\", index=False)\n",
    "\n",
    "# Commit changes & close connection\n",
    "conn.commit()\n",
    "conn.close()\n",
    "\n",
    "log.update({\n",
    "    'sales_records': len(df_last_year),\n",
    "    'customer_records': len(customer_summary),\n",
    "    'time_periods': len(time_dim),\n",
    "    'status': 'success'\n",
    "})"
   ]
  },
  {
   "cell_type": "code",
   "execution_count": 51,
   "id": "4f8752b5",
   "metadata": {},
   "outputs": [
    {
     "data": {
      "text/plain": [
       "{'extracted_rows': 406829,\n",
       " 'after_outlier_removal': 397884,\n",
       " 'sales_records': 397884,\n",
       " 'customer_records': 4338,\n",
       " 'time_periods': 305,\n",
       " 'status': 'success'}"
      ]
     },
     "execution_count": 51,
     "metadata": {},
     "output_type": "execute_result"
    }
   ],
   "source": [
    "log  # This will output the log as cell result"
   ]
  },
  {
   "cell_type": "code",
   "execution_count": 52,
   "id": "ce45f3dd",
   "metadata": {},
   "outputs": [
    {
     "name": "stdout",
     "output_type": "stream",
     "text": [
      "ETL Log: None\n",
      "\n",
      "Total Sales by Country:\n",
      "                  Country    TotalSales\n",
      "0         United Kingdom  7.308392e+06\n",
      "1            Netherlands  2.854463e+05\n",
      "2                   EIRE  2.655459e+05\n",
      "3                Germany  2.288671e+05\n",
      "4                 France  2.090240e+05\n",
      "5              Australia  1.385213e+05\n",
      "6                  Spain  6.157711e+04\n",
      "7            Switzerland  5.644395e+04\n",
      "8                Belgium  4.119634e+04\n",
      "9                 Sweden  3.837833e+04\n",
      "10                 Japan  3.741637e+04\n",
      "11                Norway  3.616544e+04\n",
      "12              Portugal  3.343989e+04\n",
      "13               Finland  2.254608e+04\n",
      "14             Singapore  2.127929e+04\n",
      "15       Channel Islands  2.045044e+04\n",
      "16               Denmark  1.895534e+04\n",
      "17                 Italy  1.748324e+04\n",
      "18                Cyprus  1.359038e+04\n",
      "19               Austria  1.019868e+04\n",
      "20                Poland  7.334650e+03\n",
      "21                Israel  7.221690e+03\n",
      "22                Greece  4.760520e+03\n",
      "23               Iceland  4.310000e+03\n",
      "24                Canada  3.666380e+03\n",
      "25                   USA  3.580390e+03\n",
      "26                 Malta  2.725590e+03\n",
      "27           Unspecified  2.667070e+03\n",
      "28  United Arab Emirates  1.902280e+03\n",
      "29               Lebanon  1.693880e+03\n",
      "30             Lithuania  1.661060e+03\n",
      "31    European Community  1.300250e+03\n",
      "32                Brazil  1.143600e+03\n",
      "33                   RSA  1.002310e+03\n",
      "34        Czech Republic  8.267400e+02\n",
      "35               Bahrain  5.484000e+02\n",
      "36          Saudi Arabia  1.459200e+02\n",
      "\n",
      "Top 10 Customers:\n",
      "    CustomerID  TotalPurchases         Country\n",
      "0     14646.0       280206.02     Netherlands\n",
      "1     18102.0       259657.30  United Kingdom\n",
      "2     17450.0       194550.79  United Kingdom\n",
      "3     16446.0       168472.50  United Kingdom\n",
      "4     14911.0       143825.06            EIRE\n",
      "5     12415.0       124914.53       Australia\n",
      "6     14156.0       117379.63            EIRE\n",
      "7     17511.0        91062.38  United Kingdom\n",
      "8     16029.0        81024.84  United Kingdom\n",
      "9     12346.0        77183.60  United Kingdom\n",
      "\n",
      "Monthly Sales Trend:\n",
      "     Year  Month  MonthlySales\n",
      "0   2010     12    572713.890\n",
      "1   2011      1    569445.040\n",
      "2   2011      2    447137.350\n",
      "3   2011      3    595500.760\n",
      "4   2011      4    469200.361\n",
      "5   2011      5    678594.560\n",
      "6   2011      6    661213.690\n",
      "7   2011      7    600091.011\n",
      "8   2011      8    645343.900\n",
      "9   2011      9    952838.382\n",
      "10  2011     10   1039318.790\n",
      "11  2011     11   1161817.380\n",
      "12  2011     12    518192.790\n"
     ]
    }
   ],
   "source": [
    "if __name__ == \"__main__\":\n",
    "    file_path = \"Online Retail.xlsx\"\n",
    "    # Run ETL and get log info\n",
    "    log_info = run_etl(file_path)\n",
    "    print(\"ETL Log:\", log_info)\n",
    "\n",
    "    # Example Queries after Load\n",
    "   \n",
    "    conn = sqlite3.connect(\"retail_dw.db\")\n",
    "\n",
    "    # Query 1: Total sales by country\n",
    "    q1 = pd.read_sql(\"\"\"\n",
    "        SELECT Country, SUM(TotalSales) AS TotalSales\n",
    "        FROM SalesFact\n",
    "        GROUP BY Country\n",
    "        ORDER BY TotalSales DESC\n",
    "    \"\"\", conn)\n",
    "    print(\"\\nTotal Sales by Country:\\n\", q1)\n",
    "\n",
    "    # Query 2: Top 10 customers by purchases\n",
    "    q2 = pd.read_sql(\"\"\"\n",
    "        SELECT * FROM CustomerDim\n",
    "        ORDER BY TotalPurchases DESC\n",
    "        LIMIT 10\n",
    "    \"\"\", conn)\n",
    "    print(\"\\nTop 10 Customers:\\n\", q2)\n",
    "\n",
    "    # Query 3: Monthly sales trend (join Fact & Time dimensions)\n",
    "    q3 = pd.read_sql(\"\"\"\n",
    "        SELECT Year, Month, SUM(TotalSales) AS MonthlySales\n",
    "        FROM TimeDim\n",
    "        JOIN SalesFact\n",
    "        ON date(SalesFact.InvoiceDate) = date(TimeDim.InvoiceDate)\n",
    "        GROUP BY Year, Month\n",
    "        ORDER BY Year, Month\n",
    "    \"\"\", conn)\n",
    "    print(\"\\nMonthly Sales Trend:\\n\", q3)\n",
    "\n",
    "    conn.close()"
   ]
  }
 ],
 "metadata": {
  "kernelspec": {
   "display_name": "base",
   "language": "python",
   "name": "python3"
  },
  "language_info": {
   "codemirror_mode": {
    "name": "ipython",
    "version": 3
   },
   "file_extension": ".py",
   "mimetype": "text/x-python",
   "name": "python",
   "nbconvert_exporter": "python",
   "pygments_lexer": "ipython3",
   "version": "3.9.13"
  }
 },
 "nbformat": 4,
 "nbformat_minor": 5
}
